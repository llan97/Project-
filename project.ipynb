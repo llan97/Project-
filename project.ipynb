#Make an example similar to input
import pandas as pd
import numpy as np
import string
col_num = 4
df = pd.DataFrame(np.random.random((11,col_num))*100, columns=list(string.ascii_uppercase)[:col_num]) #columns letters of alphabet based on https://stackoverflow.com/a/48911848/8508004
list = []
for i in range(1, df.shape[0] + 1): # gets the length of the DataFrame.
    list.append(f'Sample{i:03d}') # Using f-string for format and 03d for leading zeros.
df['A'] = list
df["D"] = 0
df
